{
 "cells": [
  {
   "cell_type": "code",
   "execution_count": 1,
   "metadata": {},
   "outputs": [],
   "source": [
    "import numpy as np\n",
    "import pandas as pd\n",
    "import plotly.graph_objs as go\n",
    "import plotly\n",
    "import json\n",
    "from sqlalchemy import create_engine"
   ]
  },
  {
   "cell_type": "code",
   "execution_count": 2,
   "metadata": {},
   "outputs": [
    {
     "name": "stdout",
     "output_type": "stream",
     "text": [
      "['group-1' 'group-2' 'group-3']\n"
     ]
    },
    {
     "data": {
      "text/html": [
       "<div>\n",
       "<style scoped>\n",
       "    .dataframe tbody tr th:only-of-type {\n",
       "        vertical-align: middle;\n",
       "    }\n",
       "\n",
       "    .dataframe tbody tr th {\n",
       "        vertical-align: top;\n",
       "    }\n",
       "\n",
       "    .dataframe thead th {\n",
       "        text-align: right;\n",
       "    }\n",
       "</style>\n",
       "<table border=\"1\" class=\"dataframe\">\n",
       "  <thead>\n",
       "    <tr style=\"text-align: right;\">\n",
       "      <th></th>\n",
       "      <th>index</th>\n",
       "      <th>x</th>\n",
       "      <th>y</th>\n",
       "      <th>group</th>\n",
       "    </tr>\n",
       "  </thead>\n",
       "  <tbody>\n",
       "    <tr>\n",
       "      <th>0</th>\n",
       "      <td>0</td>\n",
       "      <td>0.000000</td>\n",
       "      <td>0.573750</td>\n",
       "      <td>group-1</td>\n",
       "    </tr>\n",
       "    <tr>\n",
       "      <th>1</th>\n",
       "      <td>1</td>\n",
       "      <td>0.025641</td>\n",
       "      <td>0.797308</td>\n",
       "      <td>group-1</td>\n",
       "    </tr>\n",
       "    <tr>\n",
       "      <th>2</th>\n",
       "      <td>2</td>\n",
       "      <td>0.051282</td>\n",
       "      <td>0.289682</td>\n",
       "      <td>group-1</td>\n",
       "    </tr>\n",
       "    <tr>\n",
       "      <th>3</th>\n",
       "      <td>3</td>\n",
       "      <td>0.076923</td>\n",
       "      <td>0.575383</td>\n",
       "      <td>group-1</td>\n",
       "    </tr>\n",
       "    <tr>\n",
       "      <th>4</th>\n",
       "      <td>4</td>\n",
       "      <td>0.102564</td>\n",
       "      <td>0.437144</td>\n",
       "      <td>group-1</td>\n",
       "    </tr>\n",
       "  </tbody>\n",
       "</table>\n",
       "</div>"
      ],
      "text/plain": [
       "   index         x         y    group\n",
       "0      0  0.000000  0.573750  group-1\n",
       "1      1  0.025641  0.797308  group-1\n",
       "2      2  0.051282  0.289682  group-1\n",
       "3      3  0.076923  0.575383  group-1\n",
       "4      4  0.102564  0.437144  group-1"
      ]
     },
     "execution_count": 2,
     "metadata": {},
     "output_type": "execute_result"
    }
   ],
   "source": [
    "df = pd.DataFrame()\n",
    "group = ['group-1','group-2','group-3']\n",
    "\n",
    "for i in group:\n",
    "    N = 40\n",
    "    x = np.linspace(0,1,N)\n",
    "    y = np.random.rand(N)\n",
    "    df_temp = pd.DataFrame({'x': x, 'y': y})\n",
    "    df_temp['group'] = i\n",
    "    df = pd.concat([df,df_temp])\n",
    "df = df.reset_index()\n",
    "print(df.group.unique())\n",
    "df.head(5)"
   ]
  },
  {
   "cell_type": "code",
   "execution_count": 6,
   "metadata": {},
   "outputs": [],
   "source": [
    "engine = create_engine('sqlite:///' + \"../data/test.db\")\n",
    "df.to_sql('Dummy', engine, index=False, if_exists='replace')"
   ]
  },
  {
   "cell_type": "code",
   "execution_count": 5,
   "metadata": {},
   "outputs": [
    {
     "data": {
      "text/plain": [
       "'[{\"x\": [0.0, 0.02564102564102564, 0.05128205128205128, 0.07692307692307693, 0.10256410256410256, 0.1282051282051282, 0.15384615384615385, 0.1794871794871795, 0.20512820512820512, 0.23076923076923075, 0.2564102564102564, 0.28205128205128205, 0.3076923076923077, 0.3333333333333333, 0.358974358974359, 0.3846153846153846, 0.41025641025641024, 0.4358974358974359, 0.4615384615384615, 0.48717948717948717, 0.5128205128205128, 0.5384615384615384, 0.5641025641025641, 0.5897435897435898, 0.6153846153846154, 0.641025641025641, 0.6666666666666666, 0.6923076923076923, 0.717948717948718, 0.7435897435897436, 0.7692307692307692, 0.7948717948717948, 0.8205128205128205, 0.8461538461538461, 0.8717948717948718, 0.8974358974358974, 0.923076923076923, 0.9487179487179487, 0.9743589743589743, 1.0], \"y\": [0.4015290704008043, 0.6622571637074229, 0.15632898620869662, 0.10031074570394505, 0.6267371196393017, 0.6381567814068302, 0.04929945014375825, 0.1154335572475802, 0.18896346361352434, 0.21368742638119909, 0.45556596728119403, 0.5967172544814546, 0.7800857566739984, 0.07442545805605827, 0.015413902133566859, 0.7314265998473936, 0.4684298922330893, 0.12678014549670436, 0.2860021877192682, 0.49165831925129666, 0.26862231782133184, 0.8111535444061457, 0.19125645233559485, 0.9855055296280657, 0.238671976138091, 0.7321823990879616, 0.7195928772082502, 0.6732256655585686, 0.7075187634816217, 0.47752766870219654, 0.3780015290246844, 0.8432402502964047, 0.8936813914090445, 0.8828137556231218, 0.30797208137101073, 0.2859637694573184, 0.5999309195295185, 0.7074996844736787, 0.7510356072912325, 0.34746029227489383], \"type\": \"bar\"}]'"
      ]
     },
     "execution_count": 5,
     "metadata": {},
     "output_type": "execute_result"
    }
   ],
   "source": [
    "data = [\n",
    "    go.Bar(\n",
    "        x = df['x'],\n",
    "        y = df['y']\n",
    "    )\n",
    "]\n",
    "\n",
    "graphJSON = json.dumps(data, cls=plotly.utils.PlotlyJSONEncoder)\n",
    "graphJSON"
   ]
  },
  {
   "cell_type": "code",
   "execution_count": null,
   "metadata": {},
   "outputs": [],
   "source": []
  }
 ],
 "metadata": {
  "kernelspec": {
   "display_name": "Python 3",
   "language": "python",
   "name": "python3"
  },
  "language_info": {
   "codemirror_mode": {
    "name": "ipython",
    "version": 3
   },
   "file_extension": ".py",
   "mimetype": "text/x-python",
   "name": "python",
   "nbconvert_exporter": "python",
   "pygments_lexer": "ipython3",
   "version": "3.8.5"
  }
 },
 "nbformat": 4,
 "nbformat_minor": 4
}
